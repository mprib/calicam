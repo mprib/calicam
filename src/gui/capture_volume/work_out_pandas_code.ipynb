{
 "cells": [
  {
   "cell_type": "code",
   "execution_count": 4,
   "metadata": {},
   "outputs": [],
   "source": [
    "\n",
    "import pandas as pd\n",
    "from pathlib import Path\n",
    "\n",
    "point_data_path = Path(r\"C:\\Users\\Mac Prible\\repos\\calicam\\sessions\\iterative_adjustment\\triangulated_points.csv\")\n",
    "point_data = pd.read_csv(point_data_path)"
   ]
  },
  {
   "cell_type": "code",
   "execution_count": 26,
   "metadata": {},
   "outputs": [
    {
     "data": {
      "text/html": [
       "<div>\n",
       "<style scoped>\n",
       "    .dataframe tbody tr th:only-of-type {\n",
       "        vertical-align: middle;\n",
       "    }\n",
       "\n",
       "    .dataframe tbody tr th {\n",
       "        vertical-align: top;\n",
       "    }\n",
       "\n",
       "    .dataframe thead th {\n",
       "        text-align: right;\n",
       "    }\n",
       "</style>\n",
       "<table border=\"1\" class=\"dataframe\">\n",
       "  <thead>\n",
       "    <tr style=\"text-align: right;\">\n",
       "      <th></th>\n",
       "      <th>Unnamed: 0</th>\n",
       "      <th>pair</th>\n",
       "      <th>time</th>\n",
       "      <th>bundle</th>\n",
       "      <th>id</th>\n",
       "      <th>x_pos</th>\n",
       "      <th>y_pos</th>\n",
       "      <th>z_pos</th>\n",
       "    </tr>\n",
       "  </thead>\n",
       "  <tbody>\n",
       "    <tr>\n",
       "      <th>57</th>\n",
       "      <td>57</td>\n",
       "      <td>(0, 1)</td>\n",
       "      <td>13.919567</td>\n",
       "      <td>20</td>\n",
       "      <td>8</td>\n",
       "      <td>-0.061096</td>\n",
       "      <td>-0.002379</td>\n",
       "      <td>0.328091</td>\n",
       "    </tr>\n",
       "    <tr>\n",
       "      <th>58</th>\n",
       "      <td>58</td>\n",
       "      <td>(0, 1)</td>\n",
       "      <td>13.919567</td>\n",
       "      <td>20</td>\n",
       "      <td>11</td>\n",
       "      <td>-0.026304</td>\n",
       "      <td>-0.000591</td>\n",
       "      <td>0.333124</td>\n",
       "    </tr>\n",
       "    <tr>\n",
       "      <th>59</th>\n",
       "      <td>59</td>\n",
       "      <td>(0, 2)</td>\n",
       "      <td>13.919611</td>\n",
       "      <td>20</td>\n",
       "      <td>5</td>\n",
       "      <td>-0.069512</td>\n",
       "      <td>0.034403</td>\n",
       "      <td>0.351988</td>\n",
       "    </tr>\n",
       "    <tr>\n",
       "      <th>60</th>\n",
       "      <td>60</td>\n",
       "      <td>(0, 2)</td>\n",
       "      <td>13.919611</td>\n",
       "      <td>20</td>\n",
       "      <td>8</td>\n",
       "      <td>-0.052884</td>\n",
       "      <td>0.035999</td>\n",
       "      <td>0.321278</td>\n",
       "    </tr>\n",
       "    <tr>\n",
       "      <th>61</th>\n",
       "      <td>61</td>\n",
       "      <td>(0, 2)</td>\n",
       "      <td>13.919611</td>\n",
       "      <td>20</td>\n",
       "      <td>10</td>\n",
       "      <td>-0.044983</td>\n",
       "      <td>0.002541</td>\n",
       "      <td>0.281570</td>\n",
       "    </tr>\n",
       "    <tr>\n",
       "      <th>62</th>\n",
       "      <td>62</td>\n",
       "      <td>(0, 2)</td>\n",
       "      <td>13.919611</td>\n",
       "      <td>20</td>\n",
       "      <td>11</td>\n",
       "      <td>-0.041972</td>\n",
       "      <td>0.038704</td>\n",
       "      <td>0.288982</td>\n",
       "    </tr>\n",
       "    <tr>\n",
       "      <th>63</th>\n",
       "      <td>63</td>\n",
       "      <td>(1, 2)</td>\n",
       "      <td>13.934191</td>\n",
       "      <td>20</td>\n",
       "      <td>8</td>\n",
       "      <td>-0.065331</td>\n",
       "      <td>0.135611</td>\n",
       "      <td>0.309169</td>\n",
       "    </tr>\n",
       "    <tr>\n",
       "      <th>64</th>\n",
       "      <td>64</td>\n",
       "      <td>(1, 2)</td>\n",
       "      <td>13.934191</td>\n",
       "      <td>20</td>\n",
       "      <td>11</td>\n",
       "      <td>-0.031077</td>\n",
       "      <td>0.133031</td>\n",
       "      <td>0.290142</td>\n",
       "    </tr>\n",
       "  </tbody>\n",
       "</table>\n",
       "</div>"
      ],
      "text/plain": [
       "    Unnamed: 0    pair       time  bundle  id     x_pos     y_pos     z_pos\n",
       "57          57  (0, 1)  13.919567      20   8 -0.061096 -0.002379  0.328091\n",
       "58          58  (0, 1)  13.919567      20  11 -0.026304 -0.000591  0.333124\n",
       "59          59  (0, 2)  13.919611      20   5 -0.069512  0.034403  0.351988\n",
       "60          60  (0, 2)  13.919611      20   8 -0.052884  0.035999  0.321278\n",
       "61          61  (0, 2)  13.919611      20  10 -0.044983  0.002541  0.281570\n",
       "62          62  (0, 2)  13.919611      20  11 -0.041972  0.038704  0.288982\n",
       "63          63  (1, 2)  13.934191      20   8 -0.065331  0.135611  0.309169\n",
       "64          64  (1, 2)  13.934191      20  11 -0.031077  0.133031  0.290142"
      ]
     },
     "execution_count": 26,
     "metadata": {},
     "output_type": "execute_result"
    }
   ],
   "source": [
    "frame_data = point_data.query(\"bundle == 20\")\n",
    "frame_data"
   ]
  },
  {
   "cell_type": "code",
   "execution_count": 24,
   "metadata": {},
   "outputs": [
    {
     "data": {
      "text/plain": [
       "['(0, 1)', '(0, 2)', '(1, 2)']"
      ]
     },
     "execution_count": 24,
     "metadata": {},
     "output_type": "execute_result"
    }
   ],
   "source": [
    "pairs = frame_data[\"pair\"].unique().tolist()\n",
    "pairs"
   ]
  },
  {
   "cell_type": "code",
   "execution_count": 35,
   "metadata": {},
   "outputs": [
    {
     "name": "stdout",
     "output_type": "stream",
     "text": [
      "(0, 1)\n",
      "    Unnamed: 0    pair       time  bundle  id     x_pos     y_pos     z_pos\n",
      "57          57  (0, 1)  13.919567      20   8 -0.061096 -0.002379  0.328091\n",
      "58          58  (0, 1)  13.919567      20  11 -0.026304 -0.000591  0.333124\n",
      "(0, 2)\n",
      "    Unnamed: 0    pair       time  bundle  id     x_pos     y_pos     z_pos\n",
      "59          59  (0, 2)  13.919611      20   5 -0.069512  0.034403  0.351988\n",
      "60          60  (0, 2)  13.919611      20   8 -0.052884  0.035999  0.321278\n",
      "61          61  (0, 2)  13.919611      20  10 -0.044983  0.002541  0.281570\n",
      "62          62  (0, 2)  13.919611      20  11 -0.041972  0.038704  0.288982\n",
      "(1, 2)\n",
      "    Unnamed: 0    pair       time  bundle  id     x_pos     y_pos     z_pos\n",
      "63          63  (1, 2)  13.934191      20   8 -0.065331  0.135611  0.309169\n",
      "64          64  (1, 2)  13.934191      20  11 -0.031077  0.133031  0.290142\n"
     ]
    }
   ],
   "source": [
    "for pair in pairs:\n",
    "    pair_data = frame_data.query(f\"pair == '{str(pair)}'\")\n",
    "    print(pair)\n",
    "    print(pair_data)\n",
    "    \n",
    "    "
   ]
  },
  {
   "cell_type": "code",
   "execution_count": 34,
   "metadata": {},
   "outputs": [
    {
     "data": {
      "text/html": [
       "<div>\n",
       "<style scoped>\n",
       "    .dataframe tbody tr th:only-of-type {\n",
       "        vertical-align: middle;\n",
       "    }\n",
       "\n",
       "    .dataframe tbody tr th {\n",
       "        vertical-align: top;\n",
       "    }\n",
       "\n",
       "    .dataframe thead th {\n",
       "        text-align: right;\n",
       "    }\n",
       "</style>\n",
       "<table border=\"1\" class=\"dataframe\">\n",
       "  <thead>\n",
       "    <tr style=\"text-align: right;\">\n",
       "      <th></th>\n",
       "      <th>Unnamed: 0</th>\n",
       "      <th>pair</th>\n",
       "      <th>time</th>\n",
       "      <th>bundle</th>\n",
       "      <th>id</th>\n",
       "      <th>x_pos</th>\n",
       "      <th>y_pos</th>\n",
       "      <th>z_pos</th>\n",
       "    </tr>\n",
       "  </thead>\n",
       "  <tbody>\n",
       "    <tr>\n",
       "      <th>57</th>\n",
       "      <td>57</td>\n",
       "      <td>(0, 1)</td>\n",
       "      <td>13.919567</td>\n",
       "      <td>20</td>\n",
       "      <td>8</td>\n",
       "      <td>-0.061096</td>\n",
       "      <td>-0.002379</td>\n",
       "      <td>0.328091</td>\n",
       "    </tr>\n",
       "    <tr>\n",
       "      <th>58</th>\n",
       "      <td>58</td>\n",
       "      <td>(0, 1)</td>\n",
       "      <td>13.919567</td>\n",
       "      <td>20</td>\n",
       "      <td>11</td>\n",
       "      <td>-0.026304</td>\n",
       "      <td>-0.000591</td>\n",
       "      <td>0.333124</td>\n",
       "    </tr>\n",
       "  </tbody>\n",
       "</table>\n",
       "</div>"
      ],
      "text/plain": [
       "    Unnamed: 0    pair       time  bundle  id     x_pos     y_pos     z_pos\n",
       "57          57  (0, 1)  13.919567      20   8 -0.061096 -0.002379  0.328091\n",
       "58          58  (0, 1)  13.919567      20  11 -0.026304 -0.000591  0.333124"
      ]
     },
     "execution_count": 34,
     "metadata": {},
     "output_type": "execute_result"
    }
   ],
   "source": [
    "frame_data.query(\"pair == '(0, 1)'\")"
   ]
  }
 ],
 "metadata": {
  "kernelspec": {
   "display_name": "calicam",
   "language": "python",
   "name": "python3"
  },
  "language_info": {
   "codemirror_mode": {
    "name": "ipython",
    "version": 3
   },
   "file_extension": ".py",
   "mimetype": "text/x-python",
   "name": "python",
   "nbconvert_exporter": "python",
   "pygments_lexer": "ipython3",
   "version": "3.8.15 (default, Nov  4 2022, 15:16:59) [MSC v.1916 64 bit (AMD64)]"
  },
  "orig_nbformat": 4,
  "vscode": {
   "interpreter": {
    "hash": "ae764ba699c7ded07afcd0fa1498f05c82e0e797cd76cfb1fdba6d175e362053"
   }
  }
 },
 "nbformat": 4,
 "nbformat_minor": 2
}
